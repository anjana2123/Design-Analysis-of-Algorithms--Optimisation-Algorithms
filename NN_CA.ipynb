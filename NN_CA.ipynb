{
 "cells": [
  {
   "cell_type": "code",
   "execution_count": 2,
   "id": "4a3f57db",
   "metadata": {},
   "outputs": [],
   "source": [
    "import numpy as np\n",
    "import pandas as pd"
   ]
  },
  {
   "cell_type": "code",
   "execution_count": 5,
   "id": "9be8c914",
   "metadata": {},
   "outputs": [],
   "source": [
    "data=pd.read_csv(r'C:\\Users\\anjan\\Downloads\\P16-Artificial-Neural-Networks\\Part 1 - Artificial Neural Networks\\Churn_Modelling.csv')"
   ]
  },
  {
   "cell_type": "code",
   "execution_count": 6,
   "id": "d7aa2d9a",
   "metadata": {},
   "outputs": [],
   "source": [
    "X = data.iloc[:, 3:-1].values\n",
    "y = data.iloc[:, -1].values"
   ]
  },
  {
   "cell_type": "code",
   "execution_count": 7,
   "id": "cb4e76fc",
   "metadata": {},
   "outputs": [],
   "source": [
    "from sklearn.preprocessing import LabelEncoder\n",
    "le = LabelEncoder()\n",
    "X[:, 2] = le.fit_transform(X[:, 2])"
   ]
  },
  {
   "cell_type": "code",
   "execution_count": 8,
   "id": "e452d4c2",
   "metadata": {},
   "outputs": [],
   "source": [
    "from sklearn.compose import ColumnTransformer\n",
    "from sklearn.preprocessing import OneHotEncoder\n",
    "ct = ColumnTransformer(transformers=[('encoder', OneHotEncoder(), [1])], remainder='passthrough')\n",
    "X = np.array(ct.fit_transform(X))"
   ]
  },
  {
   "cell_type": "code",
   "execution_count": 9,
   "id": "1f6656b4",
   "metadata": {},
   "outputs": [],
   "source": [
    "from sklearn.model_selection import train_test_split\n",
    "X_train, X_test, y_train, y_test = train_test_split(X, y, test_size = 0.2, random_state = 0)"
   ]
  },
  {
   "cell_type": "code",
   "execution_count": 10,
   "id": "27d62d24",
   "metadata": {},
   "outputs": [],
   "source": [
    "from sklearn.preprocessing import StandardScaler\n",
    "sc = StandardScaler()\n",
    "X_train = sc.fit_transform(X_train)\n",
    "X_test = sc.transform(X_test)"
   ]
  },
  {
   "cell_type": "code",
   "execution_count": 12,
   "id": "8c1f87ab",
   "metadata": {},
   "outputs": [],
   "source": [
    "# Define the neural network architecture\n",
    "input_size = 2\n",
    "hidden_size = 3\n",
    "output_size = 1\n",
    "\n",
    "# Define the number of individuals in the population\n",
    "population_size = 10\n",
    "\n",
    "# Define the maximum number of generations\n",
    "max_generations = 100\n",
    "\n",
    "# Define the selection pressure\n",
    "tournament_size = 2\n",
    "\n",
    "# Define the mutation rate\n",
    "mutation_rate = 0.1\n",
    "\n",
    "# Define the fitness function\n",
    "def fitness_function(weights):\n",
    "    # Define the neural network with the given weights\n",
    "    w1 = np.reshape(weights[:hidden_size * input_size], (hidden_size, input_size))\n",
    "    b1 = np.reshape(weights[hidden_size * input_size:hidden_size * input_size + hidden_size], (hidden_size, 1))\n",
    "    w2 = np.reshape(weights[hidden_size * input_size + hidden_size:hidden_size * input_size + hidden_size + output_size * hidden_size], (output_size, hidden_size))\n",
    "    b2 = np.reshape(weights[hidden_size * input_size + hidden_size + output_size * hidden_size:], (output_size, 1))\n",
    "    z1 = np.dot(w1, X.T) + b1\n",
    "    a1 = np.tanh(z1)\n",
    "    z2 = np.dot(w2, a1) + b2\n",
    "    a2 = np.tanh(z2)\n",
    "\n",
    "    # Compute the mean squared error\n",
    "    mse = np.mean((a2 - y) ** 2)\n",
    "\n",
    "    return -mse\n",
    "\n"
   ]
  },
  {
   "cell_type": "code",
   "execution_count": null,
   "id": "f823b325",
   "metadata": {},
   "outputs": [],
   "source": [
    "# Initialize the population\n",
    "population = np.random.uniform(-1, 1, (population_size, input_size * hidden_size + hidden_size + output_size * hidden_size + output_size))\n",
    "\n",
    "# Initialize the individual knowledge\n",
    "individual_knowledge = np.copy(population)\n",
    "\n",
    "# Initialize the cultural knowledge\n",
    "cultural_knowledge = np.zeros((output_size * hidden_size + output_size + hidden_size * input_size + hidden_size))\n",
    "\n",
    "# Iterate over the generations\n",
    "for generation in range(max_generations):\n",
    "\n",
    "    # Evaluate the fitness of each individual in the population\n",
    "    fitness = np.zeros(population_size)\n",
    "    for i in range(population_size):\n",
    "        fitness[i] = fitness_function(population[i])\n",
    "    \n",
    "    # Update the individual knowledge\n",
    "    for i in range(population_size):\n",
    "        if fitness[i] > fitness_function(individual_knowledge[i]):\n",
    "            individual_knowledge[i] = np.copy(population[i])\n",
    "\n",
    "    # Update the cultural knowledge\n",
    "    best_individual = population[np.argmax(fitness)]\n",
    "    if fitness_function(best_individual) > fitness_function(cultural_knowledge):\n",
    "        cultural_knowledge = np.copy(best_individual)\n",
    "\n",
    "    # Create a new population\n",
    "    new_population = np.zeros((population_size, input_size * hidden_size + hidden_size + output_size * hidden_size + output_size))\n",
    "\n",
    "    # Perform selection, crossover, and mutation\n",
    "    for i in range(population_size):\n",
    "        parent1 = population[np.random.randint(population_size)]\n",
    "        parent2 = population[np.random.randint(population_size)]\n",
    "        tournament = np.argsort(np.random.rand(tournament_size) * fitness[np.random.randint(population_size, size=tournament_size)])\n",
    "        parent1 = tournament[0]\n",
    "        parent2 = tournament[1]\n",
    "        offspring = np.zeros(input_size * hidden_size + hidden_size + output_size * hidden_size + output_size)\n",
    "        for j in range(input_size * hidden_size + hidden_size + output_size * hidden_size + output_size):\n",
    "            if np.random.rand() < mutation_rate:\n",
    "                offspring[j] = np.random.uniform(-1, 1)\n",
    "            else:\n",
    "                if np.random.rand() < 0.5:\n",
    "                    offspring[j] = individual_knowledge[parent]\n"
   ]
  }
 ],
 "metadata": {
  "kernelspec": {
   "display_name": "Python 3 (ipykernel)",
   "language": "python",
   "name": "python3"
  },
  "language_info": {
   "codemirror_mode": {
    "name": "ipython",
    "version": 3
   },
   "file_extension": ".py",
   "mimetype": "text/x-python",
   "name": "python",
   "nbconvert_exporter": "python",
   "pygments_lexer": "ipython3",
   "version": "3.9.7"
  }
 },
 "nbformat": 4,
 "nbformat_minor": 5
}
