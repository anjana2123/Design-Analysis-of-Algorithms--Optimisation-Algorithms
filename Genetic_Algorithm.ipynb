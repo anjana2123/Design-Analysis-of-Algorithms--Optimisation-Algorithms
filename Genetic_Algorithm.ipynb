{
 "cells": [
  {
   "cell_type": "code",
   "execution_count": 2,
   "id": "da4a806c",
   "metadata": {},
   "outputs": [],
   "source": [
    "import numpy as np\n",
    "import pandas as pd\n",
    "from sklearn.model_selection import train_test_split\n",
    "from sklearn.neural_network import MLPClassifier\n",
    "from sklearn.metrics import accuracy_score\n",
    "from random import randint, uniform\n",
    "from sklearn.preprocessing import StandardScaler\n",
    "from deap import base, creator, tools, algorithms"
   ]
  },
  {
   "cell_type": "code",
   "execution_count": 9,
   "id": "5420e91b",
   "metadata": {},
   "outputs": [],
   "source": [
    "df=pd.read_csv(r'C:\\Users\\anjan\\Downloads\\P16-Artificial-Neural-Networks\\Part 1 - Artificial Neural Networks\\Churn_Modelling.csv')"
   ]
  },
  {
   "cell_type": "code",
   "execution_count": 10,
   "id": "cf66c4ee",
   "metadata": {},
   "outputs": [
    {
     "data": {
      "text/html": [
       "<div>\n",
       "<style scoped>\n",
       "    .dataframe tbody tr th:only-of-type {\n",
       "        vertical-align: middle;\n",
       "    }\n",
       "\n",
       "    .dataframe tbody tr th {\n",
       "        vertical-align: top;\n",
       "    }\n",
       "\n",
       "    .dataframe thead th {\n",
       "        text-align: right;\n",
       "    }\n",
       "</style>\n",
       "<table border=\"1\" class=\"dataframe\">\n",
       "  <thead>\n",
       "    <tr style=\"text-align: right;\">\n",
       "      <th></th>\n",
       "      <th>RowNumber</th>\n",
       "      <th>CustomerId</th>\n",
       "      <th>Surname</th>\n",
       "      <th>CreditScore</th>\n",
       "      <th>Geography</th>\n",
       "      <th>Gender</th>\n",
       "      <th>Age</th>\n",
       "      <th>Tenure</th>\n",
       "      <th>Balance</th>\n",
       "      <th>NumOfProducts</th>\n",
       "      <th>HasCrCard</th>\n",
       "      <th>IsActiveMember</th>\n",
       "      <th>EstimatedSalary</th>\n",
       "      <th>Exited</th>\n",
       "    </tr>\n",
       "  </thead>\n",
       "  <tbody>\n",
       "    <tr>\n",
       "      <th>0</th>\n",
       "      <td>1</td>\n",
       "      <td>15634602</td>\n",
       "      <td>Hargrave</td>\n",
       "      <td>619</td>\n",
       "      <td>France</td>\n",
       "      <td>Female</td>\n",
       "      <td>42</td>\n",
       "      <td>2</td>\n",
       "      <td>0.00</td>\n",
       "      <td>1</td>\n",
       "      <td>1</td>\n",
       "      <td>1</td>\n",
       "      <td>101348.88</td>\n",
       "      <td>1</td>\n",
       "    </tr>\n",
       "    <tr>\n",
       "      <th>1</th>\n",
       "      <td>2</td>\n",
       "      <td>15647311</td>\n",
       "      <td>Hill</td>\n",
       "      <td>608</td>\n",
       "      <td>Spain</td>\n",
       "      <td>Female</td>\n",
       "      <td>41</td>\n",
       "      <td>1</td>\n",
       "      <td>83807.86</td>\n",
       "      <td>1</td>\n",
       "      <td>0</td>\n",
       "      <td>1</td>\n",
       "      <td>112542.58</td>\n",
       "      <td>0</td>\n",
       "    </tr>\n",
       "    <tr>\n",
       "      <th>2</th>\n",
       "      <td>3</td>\n",
       "      <td>15619304</td>\n",
       "      <td>Onio</td>\n",
       "      <td>502</td>\n",
       "      <td>France</td>\n",
       "      <td>Female</td>\n",
       "      <td>42</td>\n",
       "      <td>8</td>\n",
       "      <td>159660.80</td>\n",
       "      <td>3</td>\n",
       "      <td>1</td>\n",
       "      <td>0</td>\n",
       "      <td>113931.57</td>\n",
       "      <td>1</td>\n",
       "    </tr>\n",
       "    <tr>\n",
       "      <th>3</th>\n",
       "      <td>4</td>\n",
       "      <td>15701354</td>\n",
       "      <td>Boni</td>\n",
       "      <td>699</td>\n",
       "      <td>France</td>\n",
       "      <td>Female</td>\n",
       "      <td>39</td>\n",
       "      <td>1</td>\n",
       "      <td>0.00</td>\n",
       "      <td>2</td>\n",
       "      <td>0</td>\n",
       "      <td>0</td>\n",
       "      <td>93826.63</td>\n",
       "      <td>0</td>\n",
       "    </tr>\n",
       "    <tr>\n",
       "      <th>4</th>\n",
       "      <td>5</td>\n",
       "      <td>15737888</td>\n",
       "      <td>Mitchell</td>\n",
       "      <td>850</td>\n",
       "      <td>Spain</td>\n",
       "      <td>Female</td>\n",
       "      <td>43</td>\n",
       "      <td>2</td>\n",
       "      <td>125510.82</td>\n",
       "      <td>1</td>\n",
       "      <td>1</td>\n",
       "      <td>1</td>\n",
       "      <td>79084.10</td>\n",
       "      <td>0</td>\n",
       "    </tr>\n",
       "  </tbody>\n",
       "</table>\n",
       "</div>"
      ],
      "text/plain": [
       "   RowNumber  CustomerId   Surname  CreditScore Geography  Gender  Age  \\\n",
       "0          1    15634602  Hargrave          619    France  Female   42   \n",
       "1          2    15647311      Hill          608     Spain  Female   41   \n",
       "2          3    15619304      Onio          502    France  Female   42   \n",
       "3          4    15701354      Boni          699    France  Female   39   \n",
       "4          5    15737888  Mitchell          850     Spain  Female   43   \n",
       "\n",
       "   Tenure    Balance  NumOfProducts  HasCrCard  IsActiveMember  \\\n",
       "0       2       0.00              1          1               1   \n",
       "1       1   83807.86              1          0               1   \n",
       "2       8  159660.80              3          1               0   \n",
       "3       1       0.00              2          0               0   \n",
       "4       2  125510.82              1          1               1   \n",
       "\n",
       "   EstimatedSalary  Exited  \n",
       "0        101348.88       1  \n",
       "1        112542.58       0  \n",
       "2        113931.57       1  \n",
       "3         93826.63       0  \n",
       "4         79084.10       0  "
      ]
     },
     "execution_count": 10,
     "metadata": {},
     "output_type": "execute_result"
    }
   ],
   "source": [
    "df.head()"
   ]
  },
  {
   "cell_type": "markdown",
   "id": "15efb2d4",
   "metadata": {},
   "source": [
    "#### Data Preprocessing"
   ]
  },
  {
   "cell_type": "code",
   "execution_count": 12,
   "id": "7b36407a",
   "metadata": {},
   "outputs": [],
   "source": [
    "X = df.iloc[:, 3:-1].values\n",
    "y = df.iloc[:, -1].values"
   ]
  },
  {
   "cell_type": "code",
   "execution_count": 13,
   "id": "1dd4ab9f",
   "metadata": {},
   "outputs": [
    {
     "name": "stdout",
     "output_type": "stream",
     "text": [
      "[[619 'France' 'Female' ... 1 1 101348.88]\n",
      " [608 'Spain' 'Female' ... 0 1 112542.58]\n",
      " [502 'France' 'Female' ... 1 0 113931.57]\n",
      " ...\n",
      " [709 'France' 'Female' ... 0 1 42085.58]\n",
      " [772 'Germany' 'Male' ... 1 0 92888.52]\n",
      " [792 'France' 'Female' ... 1 0 38190.78]]\n"
     ]
    }
   ],
   "source": [
    "print(X)"
   ]
  },
  {
   "cell_type": "code",
   "execution_count": 14,
   "id": "dd44dd3a",
   "metadata": {},
   "outputs": [
    {
     "name": "stdout",
     "output_type": "stream",
     "text": [
      "[1 0 1 ... 1 1 0]\n"
     ]
    }
   ],
   "source": [
    "print(y)"
   ]
  },
  {
   "cell_type": "markdown",
   "id": "0b6c6384",
   "metadata": {},
   "source": [
    "#### Encoding categorical data"
   ]
  },
  {
   "cell_type": "code",
   "execution_count": 15,
   "id": "a2ccf798",
   "metadata": {},
   "outputs": [],
   "source": [
    "from sklearn.preprocessing import LabelEncoder\n",
    "le = LabelEncoder()\n",
    "X[:, 2] = le.fit_transform(X[:, 2])"
   ]
  },
  {
   "cell_type": "code",
   "execution_count": 16,
   "id": "b84b6129",
   "metadata": {},
   "outputs": [
    {
     "name": "stdout",
     "output_type": "stream",
     "text": [
      "[[619 'France' 0 ... 1 1 101348.88]\n",
      " [608 'Spain' 0 ... 0 1 112542.58]\n",
      " [502 'France' 0 ... 1 0 113931.57]\n",
      " ...\n",
      " [709 'France' 0 ... 0 1 42085.58]\n",
      " [772 'Germany' 1 ... 1 0 92888.52]\n",
      " [792 'France' 0 ... 1 0 38190.78]]\n"
     ]
    }
   ],
   "source": [
    "print(X)"
   ]
  },
  {
   "cell_type": "code",
   "execution_count": 17,
   "id": "02250012",
   "metadata": {},
   "outputs": [],
   "source": [
    "### One-hot encoding the geography column"
   ]
  },
  {
   "cell_type": "code",
   "execution_count": 18,
   "id": "870ae18b",
   "metadata": {},
   "outputs": [],
   "source": [
    "from sklearn.compose import ColumnTransformer\n",
    "from sklearn.preprocessing import OneHotEncoder\n",
    "ct = ColumnTransformer(transformers=[('encoder', OneHotEncoder(), [1])], remainder='passthrough')\n",
    "X = np.array(ct.fit_transform(X))\n",
    "     "
   ]
  },
  {
   "cell_type": "code",
   "execution_count": 19,
   "id": "ffb32370",
   "metadata": {},
   "outputs": [
    {
     "name": "stdout",
     "output_type": "stream",
     "text": [
      "[[1.0 0.0 0.0 ... 1 1 101348.88]\n",
      " [0.0 0.0 1.0 ... 0 1 112542.58]\n",
      " [1.0 0.0 0.0 ... 1 0 113931.57]\n",
      " ...\n",
      " [1.0 0.0 0.0 ... 0 1 42085.58]\n",
      " [0.0 1.0 0.0 ... 1 0 92888.52]\n",
      " [1.0 0.0 0.0 ... 1 0 38190.78]]\n"
     ]
    }
   ],
   "source": [
    "print(X)"
   ]
  },
  {
   "cell_type": "markdown",
   "id": "368d55e0",
   "metadata": {},
   "source": [
    "#### Splitting dataset into training and testing set"
   ]
  },
  {
   "cell_type": "code",
   "execution_count": 20,
   "id": "d1fa160f",
   "metadata": {},
   "outputs": [],
   "source": [
    "from sklearn.model_selection import train_test_split\n",
    "X, X_test, y_train, y = train_test_split(X, y, test_size = 0.2, random_state = 0)\n"
   ]
  },
  {
   "cell_type": "markdown",
   "id": "95b1523c",
   "metadata": {},
   "source": [
    "#### Feature Scaling"
   ]
  },
  {
   "cell_type": "code",
   "execution_count": 21,
   "id": "ddbb4fdd",
   "metadata": {},
   "outputs": [],
   "source": [
    "scaler = StandardScaler()\n",
    "X = scaler.fit_transform(X)\n",
    "X_test_scaled = scaler.transform(X_test)\n"
   ]
  },
  {
   "cell_type": "markdown",
   "id": "9053979e",
   "metadata": {},
   "source": [
    "#### Define the genetic algorithm settings"
   ]
  },
  {
   "cell_type": "code",
   "execution_count": 22,
   "id": "1d6c8d74",
   "metadata": {},
   "outputs": [],
   "source": [
    "class NeuralNetwork:\n",
    "    def __init__(self, input_size, hidden_size, output_size):\n",
    "        self.input_size = 12\n",
    "        self.hidden_size = 25\n",
    "        self.output_size = 1\n",
    "        \n",
    "    def forward(self,X):\n",
    "        \n",
    "        def sigmoid(x):\n",
    "            return 1 / (1 + np.exp(-x))\n",
    "    \n",
    "        def relu(x):\n",
    "            return np.maximum(0, x)\n",
    "    \n",
    "        def softmax(x):\n",
    "            exps = np.exp(x - np.max(x, axis=1, keepdims=True))\n",
    "            return exps / np.sum(exps, axis=1, keepdims=True)\n",
    "    \n",
    "        def forward_propagation(X, weights_input_hidden, weights_hidden_output):\n",
    "            hidden_layer_input = np.dot(X, weights_input_hidden)\n",
    "            hidden_layer_output = relu(hidden_layer_input)\n",
    "            output_layer_input = np.dot(hidden_layer_output, weights_hidden_output)\n",
    "            output_layer_output = softmax(output_layer_input)\n",
    "            return hidden_layer_input, hidden_layer_output, output_layer_input, output_layer_output\n",
    "    \n",
    "        hidden_layer_input, hidden_layer_output, output_layer_input, output_layer_output=forward_propagation(X_test_scaled, weights_input_hidden, weights_hidden_output)\n",
    "    def backward(self, X, y, learning_rate):\n",
    "        # Perform backward pass to update weights\n",
    "        m = X.shape[0]  # number of samples\n",
    "        dZ2 = self.A2 - y  # compute gradient of loss with respect to Z2\n",
    "        dW2 = (1 / m) * np.dot(self.A1.T, dZ2)  # compute gradient of loss with respect to W2\n",
    "        db2 = (1 / m) * np.sum(dZ2, axis=0, keepdims=True)  # compute gradient of loss with respect to b2\n",
    "\n",
    "        dA1 = np.dot(dZ2, self.W2.T)  # compute gradient of loss with respect to A1\n",
    "        dZ1 = dA1 * self.sigmoid_derivative(self.Z1)  # compute gradient of loss with respect to Z1\n",
    "        dW1 = (1 / m) * np.dot(X.T, dZ1)  # compute gradient of loss with respect to W1\n",
    "        db1 = (1 / m) * np.sum(dZ1, axis=0, keepdims=True)  # compute gradient of loss with respect to b1\n",
    "\n",
    "        # Update weights and biases\n",
    "        self.W1 -= learning_rate * dW1  # update W1\n",
    "        self.b1 -= learning_rate * db1  # update b1\n",
    "        self.W2 -= learning_rate * dW2  # update W2\n",
    "        self.b2 -= learning_rate * db2  # update b2\n",
    "\n",
    "    def predict(self, X):\n",
    "        Z1 = np.dot(X, self.W1) + self.b1  # compute Z1\n",
    "        A1 = self.sigmoid(Z1)  # apply sigmoid activation to Z1\n",
    "        Z2 = np.dot(A1, self.W2) + self.b2  # compute Z2\n",
    "        A2 = self.sigmoid(Z2)  # apply sigmoid activation to Z2\n",
    "        return A2  # return the predicted probabilities \n",
    "    "
   ]
  },
  {
   "cell_type": "code",
   "execution_count": 23,
   "id": "daeaf782",
   "metadata": {},
   "outputs": [],
   "source": [
    "def selection(population, fitness_scores):\n",
    "    # Perform selection based on fitness scores\n",
    "    # Input: population - list of individuals in the population\n",
    "    #        fitness_scores - list of fitness scores for each individual\n",
    "    # Output: selected_population - list of selected individuals\n",
    "\n",
    "    # Compute selection probabilities based on fitness scores\n",
    "    selection_probs = fitness_scores / np.sum(fitness_scores)\n",
    "    \n",
    "    # Use numpy's random.choice to perform weighted random selection\n",
    "    selected_population_indices = np.random.choice(len(population), size=len(population), p=selection_probs)\n",
    "    \n",
    "    # Create a new list to store selected individuals\n",
    "    selected_population = [population[idx] for idx in selected_population_indices]\n",
    "    \n",
    "    return selected_population\n",
    "\n",
    "\n",
    "def crossover(parent1, parent2):\n",
    "    # Perform crossover between two parents to create two offspring\n",
    "    # Input: parent1 - first parent\n",
    "    #        parent2 - second parent\n",
    "    # Output: offspring1 - first offspring\n",
    "    #         offspring2 - second offspring\n",
    "    \n",
    "    # Randomly select a crossover point\n",
    "    crossover_point = np.random.randint(1, len(parent1))\n",
    "    \n",
    "    # Perform crossover by exchanging genes between parents\n",
    "    offspring1 = np.concatenate((parent1[:crossover_point], parent2[crossover_point:]))\n",
    "    offspring2 = np.concatenate((parent2[:crossover_point], parent1[crossover_point:]))\n",
    "    \n",
    "    return offspring1, offspring2\n",
    "\n",
    "\n",
    "def mutation(individual, mutation_prob):\n",
    "    # Perform mutation on an individual\n",
    "    # Input: individual - individual to mutate\n",
    "    #        mutation_prob - probability of mutation\n",
    "    # Output: mutated_individual - mutated individual\n",
    "    \n",
    "    # Randomly decide whether to perform mutation\n",
    "    if np.random.rand() < mutation_prob:\n",
    "        # Randomly select a gene to mutate\n",
    "        mutation_point = np.random.randint(0, len(individual))\n",
    "        \n",
    "        # Perform mutation by randomly changing the gene value\n",
    "        mutated_individual = np.copy(individual)\n",
    "        mutated_individual[mutation_point] = np.random.uniform(-1, 1)\n",
    "    else:\n",
    "        mutated_individual = individual\n",
    "    \n",
    "    return mutated_individual\n",
    "\n",
    "\n",
    "def fitness_evaluation(population, X, y):\n",
    "    # Evaluate the fitness of each individual in the population\n",
    "    # Input: population - list of individuals in the population\n",
    "    #        X - input features for neural network\n",
    "    #        y - target labels for neural network\n",
    "    # Output: fitness_scores - list of fitness scores for each individual\n",
    "    \n",
    "    fitness_scores = []\n",
    "    for individual in population:\n",
    "        # Set the individual's weights in the neural network\n",
    "        neural_network.set_weights(individual)\n",
    "        \n",
    "        # Perform forward pass to get predicted probabilities\n",
    "        predicted_probs = neural_network.predict(X)\n",
    "        \n",
    "        # Compute cross-entropy loss as fitness score\n",
    "        loss = -np.sum(y * np.log(predicted_probs) + (1 - y) * np.log(1 - predicted_probs))\n",
    "        fitness_scores.append(loss)\n",
    "    \n",
    "    return fitness_scores        "
   ]
  },
  {
   "cell_type": "code",
   "execution_count": 24,
   "id": "0c0eca08",
   "metadata": {},
   "outputs": [],
   "source": [
    "def main():\n",
    "    # Set hyperparameters for the genetic algorithm\n",
    "    population_size = 50  # Number of individuals in each generation\n",
    "    crossover_prob = 0.8  # Probability of crossover operation\n",
    "    mutation_prob = 0.2  # Probability of mutation operation\n",
    "\n",
    "    # Create initial population of individuals\n",
    "    population = []\n",
    "    \n",
    "    for i in range(population_size):\n",
    "        # Initialize weights for the neural network\n",
    "        input_hidden_weights = np.random.uniform(-1, 1, size=(input_size, hidden_size))\n",
    "        hidden_output_weights = np.random.uniform(-1, 1, size=(hidden_size, 1))\n",
    "        \n",
    "        # Flatten the weights into a single 1D array\n",
    "        individual = np.concatenate((input_hidden_weights.flatten(), hidden_output_weights.flatten()))\n",
    "        \n",
    "        population.append(individual)\n",
    "\n",
    "    # Iterate through generations\n",
    "    num_generations=20\n",
    "    for generation in range(num_generations):\n",
    "        # Evaluate fitness of individuals in the population\n",
    "        fitness = fitness_evaluation(population,X,y)\n",
    "\n",
    "        # Select parents for crossover\n",
    "        parents = selection(population, fitness)\n",
    "\n",
    "        # Perform crossover and mutation to create offspring\n",
    "        offspring = []\n",
    "        for i in range(population_size // 2):\n",
    "            parent1 = parents[i]\n",
    "            parent2 = parents[i + 1]\n",
    "            if np.random.rand() < crossover_prob:\n",
    "                child1, child2 = crossover(parent1, parent2)\n",
    "                offspring.append(child1)\n",
    "                offspring.append(child2)\n",
    "            else:\n",
    "                offspring.append(parent1)\n",
    "                offspring.append(parent2)\n",
    "\n",
    "        # Perform mutation on offspring\n",
    "        for i in range(population_size):\n",
    "            if np.random.rand() < mutation_prob:\n",
    "                offspring[i] = mutation(offspring[i])\n",
    "\n",
    "        # Replace old population with offspring\n",
    "        population = offspring\n",
    "\n",
    "        # Update best solution and display progress\n",
    "        best_individual = population[np.argmax(fitness)]\n",
    "        # ... (print/update best solution and display progress)\n",
    "\n",
    "    # After all generations, retrieve best solution\n",
    "    best_individual = population[np.argmax(fitness)]\n",
    "    "
   ]
  },
  {
   "cell_type": "code",
   "execution_count": null,
   "id": "f39718e4",
   "metadata": {},
   "outputs": [],
   "source": []
  }
 ],
 "metadata": {
  "kernelspec": {
   "display_name": "Python 3 (ipykernel)",
   "language": "python",
   "name": "python3"
  },
  "language_info": {
   "codemirror_mode": {
    "name": "ipython",
    "version": 3
   },
   "file_extension": ".py",
   "mimetype": "text/x-python",
   "name": "python",
   "nbconvert_exporter": "python",
   "pygments_lexer": "ipython3",
   "version": "3.9.7"
  }
 },
 "nbformat": 4,
 "nbformat_minor": 5
}
